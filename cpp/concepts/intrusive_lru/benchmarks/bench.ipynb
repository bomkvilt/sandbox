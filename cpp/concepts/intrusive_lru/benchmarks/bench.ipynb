{
 "cells": [
  {
   "cell_type": "code",
   "execution_count": 3,
   "metadata": {},
   "outputs": [],
   "source": [
    "import json\n",
    "import os\n",
    "import pathlib\n",
    "import re\n",
    "import subprocess\n",
    "\n",
    "import polars as pl\n",
    "import plotly.express as px"
   ]
  },
  {
   "cell_type": "code",
   "execution_count": null,
   "metadata": {},
   "outputs": [],
   "source": [
    "def get_benchmark_results() -> pl.DataFrame:\n",
    "    benchmark = subprocess.run(\n",
    "        \" \".join(\n",
    "            [\n",
    "                *[\"bazelisk\", \"run\"],\n",
    "                *[\"-c\", \"opt\"],\n",
    "                *[\":bench\"],\n",
    "                \"--\",\n",
    "                # do several runs\n",
    "                \"--benchmark_enable_random_interleaving=true\",\n",
    "                \"--benchmark_report_aggregates_only=false\",\n",
    "                \"--benchmark_repetitions=50\",\n",
    "                # report in json format\n",
    "                \"--benchmark_format=json\",\n",
    "            ]\n",
    "        ),\n",
    "        stdout=subprocess.PIPE,\n",
    "        stderr=subprocess.PIPE,\n",
    "        cwd=pathlib.Path(os.getcwd()).parent,\n",
    "        shell=True,\n",
    "        text=True,\n",
    "    )\n",
    "\n",
    "    if benchmark.returncode != 0:\n",
    "        error = Exception(\"Benchmark failed\")\n",
    "        error.add_note(benchmark.stderr)\n",
    "        raise error\n",
    "    return pl.DataFrame(json.loads(benchmark.stdout)[\"benchmarks\"])\n",
    "\n",
    "\n",
    "benchmark = get_benchmark_results()\n",
    "benchmark"
   ]
  },
  {
   "cell_type": "code",
   "execution_count": 20,
   "metadata": {},
   "outputs": [
    {
     "data": {
      "application/vnd.plotly.v1+json": {
       "config": {
        "plotlyServerURL": "https://plot.ly"
       },
       "data": [
        {
         "alignmentgroup": "True",
         "hovertemplate": "preset=v1 : pmr<br>function=get<br>hit_mode=%{x}<br>real_time=%{y}<extra></extra>",
         "legendgroup": "v1 : pmr",
         "marker": {
          "color": "#636efa"
         },
         "name": "v1 : pmr",
         "notched": false,
         "offsetgroup": "v1 : pmr",
         "orientation": "v",
         "showlegend": true,
         "type": "box",
         "x": [
          "hit",
          "hit",
          "hit",
          "hit",
          "hit",
          "hit",
          "hit",
          "hit",
          "hit",
          "hit",
          "hit",
          "hit",
          "hit",
          "hit",
          "hit",
          "hit",
          "hit",
          "hit",
          "hit",
          "hit",
          "hit",
          "hit",
          "hit",
          "hit",
          "hit",
          "hit",
          "hit",
          "hit",
          "hit",
          "hit",
          "hit",
          "hit",
          "hit",
          "hit",
          "hit",
          "hit",
          "hit",
          "hit",
          "hit",
          "hit",
          "hit",
          "hit",
          "hit",
          "hit",
          "hit",
          "hit",
          "hit",
          "hit",
          "hit",
          "hit",
          "miss",
          "miss",
          "miss",
          "miss",
          "miss",
          "miss",
          "miss",
          "miss",
          "miss",
          "miss",
          "miss",
          "miss",
          "miss",
          "miss",
          "miss",
          "miss",
          "miss",
          "miss",
          "miss",
          "miss",
          "miss",
          "miss",
          "miss",
          "miss",
          "miss",
          "miss",
          "miss",
          "miss",
          "miss",
          "miss",
          "miss",
          "miss",
          "miss",
          "miss",
          "miss",
          "miss",
          "miss",
          "miss",
          "miss",
          "miss",
          "miss",
          "miss",
          "miss",
          "miss",
          "miss",
          "miss",
          "miss",
          "miss",
          "miss",
          "miss"
         ],
         "x0": " ",
         "xaxis": "x",
         "y": {
          "bdata": "y+7Jw0KNIEDBwHPv4VIYQKG5TiMtpSJAO1PovMZOJUDIlEiil8EhQCwmNh/XZiJAMMpskEm2IECyVN6OcLoVQBI5C3vaoR5A6tdkjXpoHkA629yYnvAaQI6Jzce1oRtA1z15WKj1HUDgq1Ym/NIbQL2kMVpHtRtAlMZoHVUNIEBvJJf/kL4dQMy+K4L/LRtAqL3BFyYzGkC7I5wWvEgaQLjaiv1lNxlAFnmSdM2kGkAueXWOAdkaQJsL6lvm1B1AauZXc4DAHUA91SE3w00dQPLvMy4cCB5AFRiyutXzIEClO4idKdQdQP3JplzhHR1A0UnvG1/bHkCzrwPnjOgXQJwRpb3B9xlAozrkZrihGEAt+64I/lcXQMqTpGsmXxdApPJ2hNMiFkBXavZAK7AVQMoBgjl6vBVAvPvjvWplFkA06iEa3aEWQEDFOH8TKhdAic3HtaFCFkDPAN4CCSoXQAmmYfiIGBdAveeHEcKjGEDl9pLGaD0ZQFHt0/GYQRdAkHBa8KLvIUAoUwWjktogQHiE04IXlTBAbCbfbHNLM0DJf0i/fT0oQEW7Cik/SSlAhF/q5021J0A/kSdJ17woQDZnRGlvgCdAXUvIBz0LJ0ChvcEXJoMoQI9TdCSX/yhAnQyOkle3JkB324XmOt0mQDwZHCWvLihAdvKwUGuqKUDMwp52+LsoQFixv+yebChA10enrnxWKEDOOqqaIOIwQHwj88gfLDBA8rYLzXVKLUAPiNf1CwYtQB/htOBFDy5A8kHPZtWnL0B8xyk6kvsrQITix5i79itAKWJKJNG7K0Bth78maxQsQN7NUx1yWzBAUw4tsp3/LkAY2c73U/MtQPGrOUAwdy1A0aiHaHRXLkAg9RCN7oAsQMiopE5AYy5ACtHoDmL3LkB8dY4B2cstQONdLuI7MS9A6sKBkCygLkCojH+fcdEvQLbXuz/eCytA7DhFR3IpMUBaFhObj9svQCPzyB8MJDFAPH8TChGYMUCRpQ9dUC8xQHNLqyFxHzVAdhVSflLFNUC8GW7A5x82QK9p3nGKTjhAES2yne8fMkA=",
          "dtype": "f8"
         },
         "y0": " ",
         "yaxis": "y"
        },
        {
         "alignmentgroup": "True",
         "hovertemplate": "preset=v1 : pmr<br>function=put<br>hit_mode=%{x}<br>real_time=%{y}<extra></extra>",
         "legendgroup": "v1 : pmr",
         "marker": {
          "color": "#636efa"
         },
         "name": "v1 : pmr",
         "notched": false,
         "offsetgroup": "v1 : pmr",
         "orientation": "v",
         "showlegend": false,
         "type": "box",
         "x": [
          "hit",
          "hit",
          "hit",
          "hit",
          "hit",
          "hit",
          "hit",
          "hit",
          "hit",
          "hit",
          "hit",
          "hit",
          "hit",
          "hit",
          "hit",
          "hit",
          "hit",
          "hit",
          "hit",
          "hit",
          "hit",
          "hit",
          "hit",
          "hit",
          "hit",
          "hit",
          "hit",
          "hit",
          "hit",
          "hit",
          "hit",
          "hit",
          "hit",
          "hit",
          "hit",
          "hit",
          "hit",
          "hit",
          "hit",
          "hit",
          "hit",
          "hit",
          "hit",
          "hit",
          "hit",
          "hit",
          "hit",
          "hit",
          "hit",
          "hit",
          "miss",
          "miss",
          "miss",
          "miss",
          "miss",
          "miss",
          "miss",
          "miss",
          "miss",
          "miss",
          "miss",
          "miss",
          "miss",
          "miss",
          "miss",
          "miss",
          "miss",
          "miss",
          "miss",
          "miss",
          "miss",
          "miss",
          "miss",
          "miss",
          "miss",
          "miss",
          "miss",
          "miss",
          "miss",
          "miss",
          "miss",
          "miss",
          "miss",
          "miss",
          "miss",
          "miss",
          "miss",
          "miss",
          "miss",
          "miss",
          "miss",
          "miss",
          "miss",
          "miss",
          "miss",
          "miss",
          "miss",
          "miss",
          "miss",
          "miss"
         ],
         "x0": " ",
         "xaxis": "x2",
         "y": {
          "bdata": "5Yi1+BSAG0B4r1qZ8GsjQDG7Jw8LxSZAUap9Oh7zKECId7mI71QnQNGSADW1DCxAmfViKCdaMEChO4idKcQlQPfDCOHR9ilAH48ZqIyvI0DfByC1iQMkQC/APjp1VSJANjMzMzMjKUDm6PF7m24gQHwe3J21SyRAH/mDgee+IEDAfR04Z6QgQA20AkNWNyFAnac65GZoIkD+If32dQAiQAS37uapXiFAplNXPsszI0BHw/ARMQUkQMUbmUf+QCBAQWoTJ/d7H0BvsaIG0+AhQI74Tsx6kR9Ars/VVuxPH0DFEWvxKeAnQKp9Oh4zICBAJTEIrByqIkCASL99HcglQKD9SBEZRiVAGhcOhGRRJEA8MevFUI4jQHY8ZqAy3iVAjzulg/U/JEBvCFVq9kAjQHqNXaJ6qyBAu8K7XMS3IEDgRV9BmvEcQHQfgNQmrhtArxafAmA8HECvPbMkQA0cQAaQ2sTJHRtAV2XfFcEfG0DSJ/Ik6foaQCMVxhaCvBpAkWYsms5OG0CYeEDZlGsbQCmVtyOcZFpA5t7DJccjXUB7XBsqxqtZQG8+rg0V3mNAdpMYBFYSY0BrNSTusVtjQPqH9NvXBmRAwJ52+GuBZUBbhjjWxQFfQKhvmdNln2NAHAjJAiYaX0DCCYUIOOBgQIa6D0BqjV5AlialoNvzX0BuEyf3OyhfQLQV+8vu7V1AW+/+eK9/ZEA0+WabG8NdQMxskElGXmBArCr7rgiqXUCRm+EGfGxlQAyi7gOQJl1AZDJVMCrhXUC3f2WlSQldQFh381SHFlxABngLJChyZkCY58HdWRZgQPhY+tAFCWBALdmxEYhdYEB4nKIjuV5gQNMYraOqF15Ay6FFtvPsYEB/NQcI5iphQMAq3sg88F5AzrhwICQLX0CGZAETuGNgQNopHaz/hV9AFk1nJ4OTXEBoZcIv9eNcQGBKJNHLxFpAL5rOTgaZWECMdhVSfipYQOaWVkPirFhABsTr+gXFWUCMtfgUACdZQMrShy6ok1hAxtMrZRnEWUDD4cyv5ohYQPb91HjpVlhAPT+MEB49WkA=",
          "dtype": "f8"
         },
         "y0": " ",
         "yaxis": "y2"
        },
        {
         "alignmentgroup": "True",
         "hovertemplate": "preset=v1 : std<br>function=get<br>hit_mode=%{x}<br>real_time=%{y}<extra></extra>",
         "legendgroup": "v1 : std",
         "marker": {
          "color": "#EF553B"
         },
         "name": "v1 : std",
         "notched": false,
         "offsetgroup": "v1 : std",
         "orientation": "v",
         "showlegend": true,
         "type": "box",
         "x": [
          "hit",
          "hit",
          "hit",
          "hit",
          "hit",
          "hit",
          "hit",
          "hit",
          "hit",
          "hit",
          "hit",
          "hit",
          "hit",
          "hit",
          "hit",
          "hit",
          "hit",
          "hit",
          "hit",
          "hit",
          "hit",
          "hit",
          "hit",
          "hit",
          "hit",
          "hit",
          "hit",
          "hit",
          "hit",
          "hit",
          "hit",
          "hit",
          "hit",
          "hit",
          "hit",
          "hit",
          "hit",
          "hit",
          "hit",
          "hit",
          "hit",
          "hit",
          "hit",
          "hit",
          "hit",
          "hit",
          "hit",
          "hit",
          "hit",
          "hit",
          "miss",
          "miss",
          "miss",
          "miss",
          "miss",
          "miss",
          "miss",
          "miss",
          "miss",
          "miss",
          "miss",
          "miss",
          "miss",
          "miss",
          "miss",
          "miss",
          "miss",
          "miss",
          "miss",
          "miss",
          "miss",
          "miss",
          "miss",
          "miss",
          "miss",
          "miss",
          "miss",
          "miss",
          "miss",
          "miss",
          "miss",
          "miss",
          "miss",
          "miss",
          "miss",
          "miss",
          "miss",
          "miss",
          "miss",
          "miss",
          "miss",
          "miss",
          "miss",
          "miss",
          "miss",
          "miss",
          "miss",
          "miss",
          "miss",
          "miss"
         ],
         "x0": " ",
         "xaxis": "x",
         "y": {
          "bdata": "SBWMSuokHUC0/SsrTUohQGGE8GjjqBdARRtHrMXHGEDmxVBOtEsXQA2cM6K09xxACnbDtkU5GUDRBFH3AagXQOrdH+9VixhAr9NIS+XNGUB7zEBl/HsaQPyarFEPkShADFqBIaubGkDYQpCDEoYaQCGi0R3EThhAKEp7gy+sHEAuBDkoYSYgQG4Sg8DKIR1A8QinBS/KIUAmAWpq2TogQHrf+NozyyBAICWvzjHgG0Atn+V5cJccQB8kC5jATRlATF35LM8jF0ApvMtFfOcZQK85QDBHLx5AJPRsVn3uHEAfbRyxFt8cQCXSb18HLh9A/ZqsUQ+xHUAIlE25wpscQPfIHww8txtAtjwP7s76GkAxuycPC9UdQESQgxJmeiBA3UenrnyWG0D49xkXDkQgQIz58gLskyFAf5v+7EeKJkCa9WIoJ9oeQP0sz4O7MyFARCqMLQTZGEBuQiECDsEkQOC/stKk9B5AZx1VTRCFIEDG6/oFuyEhQMJu2LYoMyBAVO3T8ZhxIUB6tHHEWjwiQFH8GHPXoilANDy9UpaBJ0DGFoIclMAoQPhNKETAMShAOKs+V1vRKkB0djI4Sg4nQPKwUGuaFyhAKqkT0ETIJ0Ag0m9fBz4nQITix5i79iZAxAPKplzRJ0DaBnx+GLEoQOn5YYTwqCpAzxlR2hvsJ0C/P96rVjYoQF+iemtgyydARJqxaDoLMkAl0csollsuQBK0AkNWxy9AmsCtu3n6MECM/WX35AEwQIGtEiwOLzNA+nXgnBHFLEBaR1UTRA01QKysNCkFbTBAT5YhjnXBLUCPIY51cWsvQBG9jGK5NTRAmkLnNXY5MED3XrUy4XcrQEC9UpYh3itA2wOtwJAFK0ASejarPvctQMpAZfz7bC9AV3k7wmkBL0BBsoAJ3MouQOEf71UrOzBAprlOIy11LkBidavnpG8xQKnsuyL4RzJAQyno9pIGL0Bth78ma1QzQOrLC7CPNjFAQyswZHVrOECLoZxoV5EyQFEGR8mrkzRA7i+7Jw/bN0Aao3VUNYE2QFjFG5lHhjVAHwclzLQ1M0A=",
          "dtype": "f8"
         },
         "y0": " ",
         "yaxis": "y"
        },
        {
         "alignmentgroup": "True",
         "hovertemplate": "preset=v1 : std<br>function=put<br>hit_mode=%{x}<br>real_time=%{y}<extra></extra>",
         "legendgroup": "v1 : std",
         "marker": {
          "color": "#EF553B"
         },
         "name": "v1 : std",
         "notched": false,
         "offsetgroup": "v1 : std",
         "orientation": "v",
         "showlegend": false,
         "type": "box",
         "x": [
          "hit",
          "hit",
          "hit",
          "hit",
          "hit",
          "hit",
          "hit",
          "hit",
          "hit",
          "hit",
          "hit",
          "hit",
          "hit",
          "hit",
          "hit",
          "hit",
          "hit",
          "hit",
          "hit",
          "hit",
          "hit",
          "hit",
          "hit",
          "hit",
          "hit",
          "hit",
          "hit",
          "hit",
          "hit",
          "hit",
          "hit",
          "hit",
          "hit",
          "hit",
          "hit",
          "hit",
          "hit",
          "hit",
          "hit",
          "hit",
          "hit",
          "hit",
          "hit",
          "hit",
          "hit",
          "hit",
          "hit",
          "hit",
          "hit",
          "hit",
          "miss",
          "miss",
          "miss",
          "miss",
          "miss",
          "miss",
          "miss",
          "miss",
          "miss",
          "miss",
          "miss",
          "miss",
          "miss",
          "miss",
          "miss",
          "miss",
          "miss",
          "miss",
          "miss",
          "miss",
          "miss",
          "miss",
          "miss",
          "miss",
          "miss",
          "miss",
          "miss",
          "miss",
          "miss",
          "miss",
          "miss",
          "miss",
          "miss",
          "miss",
          "miss",
          "miss",
          "miss",
          "miss",
          "miss",
          "miss",
          "miss",
          "miss",
          "miss",
          "miss",
          "miss",
          "miss",
          "miss",
          "miss",
          "miss",
          "miss"
         ],
         "x0": " ",
         "xaxis": "x2",
         "y": {
          "bdata": "27BtUWbjH0CypnnHKdobQMEma9RDtBxAYLUy4ZcaIkD2r6w0KYUiQAy1pnnHySJAjx6/t+mPIkClZg+0AoMhQDdB1H0AgiJABS/6CtLMIUAjk4ycha0kQOWqsu+KwCVAX5hMFYwaI0D0LXO6LIYlQDpAMEePfyZAcnYyOEpOIkCMtFTejnAsQIx6iEZ3ACRA5V0u4jshJEB98rBQayomQLp5qkNuliVA13mNXaJKLEB9U5EKY8slQNl3RfC/hSJA3EHsTKHzJkCpZWt9kTAkQE4ychb2VCNAjPhOzHqBIkCIM7+aA4QjQJqPa0PFeB1AaYEExY/xHUAl6ZrJN1sfQM5XkGYsWhxAhAncuptHHUCYj2tDxXgfQAP6RJ4kXR9AkrjH0ofuHUCOf59x4SAeQBfxnZj1wiBAZzo7GRyFIkCUGARWDi0iQOSbbW5MDyJAfEljtI4aIkB9J2a9GBogQEbKT6p9KiFAX5hMFYzqIUAHd2fttosgQLztQnOdhiBAFWHD0ys1JEDs9e6P96ohQMKGp1fK9lNA95fdk4fXUEBH5pE/GIVhQF0DWyVYYF9AG8BbIEFpWEBKPKBsylddQAAUXKyoiVxAPRkcJa9KXED4zJIANfFaQP+VlSalPllARLHc0mqsVUCy+lxtxVRWQE5Ty9b6QFhAjGzn+6kJV0DSWwNbJe5UQPK/lezYLlZAnyl0XmOTVUA8xty1hDhUQGjMXUvI9VZAwVHy6hxHVUCX4qqy76BRQFQdcjPcqlRA6NU5BmSJU0DK2xFOC8BTQJnFxObjllNAcjPcgM83VkD9If32dfhTQIzDmV/NC15ARrHc0mrWU0A9J71vfLFTQFT2XRH83VVAAT4/jBAsVkDX/znMl2NWQIy+gjRj41tAGhL3WPr8VUBGIQIOoSBbQEU9RKM7IldAfPzepj8vVUCDzw8jhG1VQIw8Sbpm5lFA+PwwQnjcT0Acu0T11ppQQJFOXfks51BA4P3xXrWOUEC+kNWtnmVRQPeSxmgd+VBAS6KXUSzZUEDD1M+bihJZQELUfQBSz1BAE8strYacUUA=",
          "dtype": "f8"
         },
         "y0": " ",
         "yaxis": "y2"
        },
        {
         "alignmentgroup": "True",
         "hovertemplate": "preset=v2 : pmr<br>function=get<br>hit_mode=%{x}<br>real_time=%{y}<extra></extra>",
         "legendgroup": "v2 : pmr",
         "marker": {
          "color": "#00cc96"
         },
         "name": "v2 : pmr",
         "notched": false,
         "offsetgroup": "v2 : pmr",
         "orientation": "v",
         "showlegend": true,
         "type": "box",
         "x": [
          "hit",
          "hit",
          "hit",
          "hit",
          "hit",
          "hit",
          "hit",
          "hit",
          "hit",
          "hit",
          "hit",
          "hit",
          "hit",
          "hit",
          "hit",
          "hit",
          "hit",
          "hit",
          "hit",
          "hit",
          "hit",
          "hit",
          "hit",
          "hit",
          "hit",
          "hit",
          "hit",
          "hit",
          "hit",
          "hit",
          "hit",
          "hit",
          "hit",
          "hit",
          "hit",
          "hit",
          "hit",
          "hit",
          "hit",
          "hit",
          "hit",
          "hit",
          "hit",
          "hit",
          "hit",
          "hit",
          "hit",
          "hit",
          "hit",
          "hit",
          "miss",
          "miss",
          "miss",
          "miss",
          "miss",
          "miss",
          "miss",
          "miss",
          "miss",
          "miss",
          "miss",
          "miss",
          "miss",
          "miss",
          "miss",
          "miss",
          "miss",
          "miss",
          "miss",
          "miss",
          "miss",
          "miss",
          "miss",
          "miss",
          "miss",
          "miss",
          "miss",
          "miss",
          "miss",
          "miss",
          "miss",
          "miss",
          "miss",
          "miss",
          "miss",
          "miss",
          "miss",
          "miss",
          "miss",
          "miss",
          "miss",
          "miss",
          "miss",
          "miss",
          "miss",
          "miss",
          "miss",
          "miss",
          "miss",
          "miss"
         ],
         "x0": " ",
         "xaxis": "x",
         "y": {
          "bdata": "JBCv6xccJkCZxCCwcvgjQFhCPujZTBxA8kMX1LdMG0DoQxfUt0wfQP+3kh0bMSFAjNE6qprAHUCb/uxHiugeQIy0VN6OEB9Azq/mAMEcHkBcyY6NQMwjQHOOAdnr/SFA33ahuU7jJEAo2lVI+SkkQHJoke18fyRA6DnpfeN7IkDlDwaeez8jQMZZ2NMO7yFAfaSIDKtIIkBTmzi535EiQLuuX7AbxiFAjaazk8GxIUD8wcBz7yEhQG9HOC14QSJA8TehEAGXIUAzdonqrWEhQLbSpBR0qyBAqtWQuMfyH0AzOe6UDtYfQPrkYaHWdB1Atpc0RuvoIEBDmQ0yyYgiQOPaUDHO3yFASFmGONblIUC/7J48LLQiQM9cp5GWWiFAxBaCHJTwIUDoBdhHpx4iQFqalIJu/yVAiFClZg+EIEDmqQ65GS4kQFRcVfZdESVAoRov3SRGJEB8dY4B2XsiQD1Y/+cwXyRAuoPYmUJ3JUDyiTxJurYoQD9D/wQX2yZA/8UzaOh/JUCt00hL5U0cQPLErBdDySVAJz+p9ukIMEAFamrZWsc0QLD5uDZUHDFAdqG5TiMdMUBWsmMjEE80QMYMVMa/9zBAlEiil1FMMUC6tBoS95A6QJJJRs7CTi5AYKyowTTMK0B4r1qZ8OspQI0vTKYKli5Am56wxAPqK0DPf0i/fU03QAWy17s/ji9As9YXCW0pMEBtNSTusUQrQK1qgqj7UCxAaUmAmlp2K0DWITfDDagsQNfdPNUhlyxAf1ZgyOrmLECTUtDtJZ0vQAzbFmU2eCtA2HxcGyr2KUDA6CtIM0YnQMarcwzIjilAemLWi6EsJkAt/yH99pUlQOhILv8hnSdAnZI6AU1kJ0Bsn47HDNQlQEBXW7G/zCZAu5aQD3qWJkBmtI6qJsgrQPFaQj7oCS5AWFc+y/MALECh1ZC4x6IvQCbDKt7ITCxAf6mfNxWZLkDye5v+7OcsQGMQWDm0yC1Apm+Z02VRLUBog0wycpYuQNobfGEyFTFAK2Gm7V8RMEDPGVHaG/wqQBYmUwWjsilAY3QHsTP1KEA=",
          "dtype": "f8"
         },
         "y0": " ",
         "yaxis": "y"
        },
        {
         "alignmentgroup": "True",
         "hovertemplate": "preset=v2 : pmr<br>function=put<br>hit_mode=%{x}<br>real_time=%{y}<extra></extra>",
         "legendgroup": "v2 : pmr",
         "marker": {
          "color": "#00cc96"
         },
         "name": "v2 : pmr",
         "notched": false,
         "offsetgroup": "v2 : pmr",
         "orientation": "v",
         "showlegend": false,
         "type": "box",
         "x": [
          "hit",
          "hit",
          "hit",
          "hit",
          "hit",
          "hit",
          "hit",
          "hit",
          "hit",
          "hit",
          "hit",
          "hit",
          "hit",
          "hit",
          "hit",
          "hit",
          "hit",
          "hit",
          "hit",
          "hit",
          "hit",
          "hit",
          "hit",
          "hit",
          "hit",
          "hit",
          "hit",
          "hit",
          "hit",
          "hit",
          "hit",
          "hit",
          "hit",
          "hit",
          "hit",
          "hit",
          "hit",
          "hit",
          "hit",
          "hit",
          "hit",
          "hit",
          "hit",
          "hit",
          "hit",
          "hit",
          "hit",
          "hit",
          "hit",
          "hit",
          "miss",
          "miss",
          "miss",
          "miss",
          "miss",
          "miss",
          "miss",
          "miss",
          "miss",
          "miss",
          "miss",
          "miss",
          "miss",
          "miss",
          "miss",
          "miss",
          "miss",
          "miss",
          "miss",
          "miss",
          "miss",
          "miss",
          "miss",
          "miss",
          "miss",
          "miss",
          "miss",
          "miss",
          "miss",
          "miss",
          "miss",
          "miss",
          "miss",
          "miss",
          "miss",
          "miss",
          "miss",
          "miss",
          "miss",
          "miss",
          "miss",
          "miss",
          "miss",
          "miss",
          "miss",
          "miss",
          "miss",
          "miss",
          "miss",
          "miss"
         ],
         "x0": " ",
         "xaxis": "x2",
         "y": {
          "bdata": "gT6RJ0m3JEBpNSTusTQhQCh5dY4BaSBAjwpjC0EOH0C/gjRj0eQiQFjY0w5/7R5AEAu1pnknIUDon+BiRQ0eQKXC2EKQgyBAi/hOzHqRIEDPCgxZ3codQIGj5NU5tiJAYB+duvIpI0A9syRATc0jQJiPa0PFuCdAkeTyH9LPJkDoQxfUt8wmQBbe5SK+AydAM4/8wcCDJ0DPlnMprsomQAY0ETY8nSVAwBIPKJuCJUDm2az6XE0mQOMBZVOucCRAm/nVHCBIJEDx5qkOuVklQIWj5NU5hiRAeCPzyB+cIEBfVfZdERwjQJNS0O0lrSJAsP7PYb6cI0AsAMYzaDgjQBw4Z0RpzyFARnwnZr1II0D6sx8pInMkQDaAt0CCwiJAQBQF+kROJkDbp+MxA9UhQGHv/nivSiNA1tglqrdGJ0AqJjYf13YoQBV9BWnG4iJAhN2wbVHmLUAyKqkT0CQmQKDRHcTO5CdAqQAYz6CxJ0BAbypSYbwlQA+5GW7ABy9AfR04Z0QpMEAj+N9KdqwwQOhNRSqMtU1AUY2XbhIrTkBofjUHCC5NQAhe9BWkOU9At7kxPWG1VEDEJced0itSQFTGv8+4NlNAjeTyH9JvU0BfsBu2LSJUQH+yKVd4KVtA0UTY8PS2VkBbEfxvJf9PQEzSNZNvzFBAepv+7EfaT0ASdHtJY3RPQIRuL2mMrFJAlXMprip1UEAsCVBTy/5NQGVOl8XEhlFA/MbXnllCUEARr+sX7LpPQJzEILBySlBA5dU5BmTvTUAUb2Qe+XNPQKibxCCwCFVAjUC8rl8sUUAdvhOzXvRPQNE/wcWKPFFAQT7o2ayQUEAIDf0TXBRWQKmfNxWp3E9ATKYKRiWZUUBLtU/HY9ZRQA3vchHfvU5AinssfejkUUBRATCeQQdQQEGuDRXjsElAjAeUTbkWSkBKyAc9m7FJQNY5BmSvf0pAsch2vp+iSUASBfpEnuxIQIVHG0esCUpA6iYxCKy0SkDfFcH/VoZJQL/FihpM/0hAbmk1JO65SUCTn1T7dPBJQLOd76fGE0pAPWDl0CJTSUA=",
          "dtype": "f8"
         },
         "y0": " ",
         "yaxis": "y2"
        },
        {
         "alignmentgroup": "True",
         "hovertemplate": "preset=v2 : std<br>function=get<br>hit_mode=%{x}<br>real_time=%{y}<extra></extra>",
         "legendgroup": "v2 : std",
         "marker": {
          "color": "#ab63fa"
         },
         "name": "v2 : std",
         "notched": false,
         "offsetgroup": "v2 : std",
         "orientation": "v",
         "showlegend": true,
         "type": "box",
         "x": [
          "hit",
          "hit",
          "hit",
          "hit",
          "hit",
          "hit",
          "hit",
          "hit",
          "hit",
          "hit",
          "hit",
          "hit",
          "hit",
          "hit",
          "hit",
          "hit",
          "hit",
          "hit",
          "hit",
          "hit",
          "hit",
          "hit",
          "hit",
          "hit",
          "hit",
          "hit",
          "hit",
          "hit",
          "hit",
          "hit",
          "hit",
          "hit",
          "hit",
          "hit",
          "hit",
          "hit",
          "hit",
          "hit",
          "hit",
          "hit",
          "hit",
          "hit",
          "hit",
          "hit",
          "hit",
          "hit",
          "hit",
          "hit",
          "hit",
          "hit",
          "miss",
          "miss",
          "miss",
          "miss",
          "miss",
          "miss",
          "miss",
          "miss",
          "miss",
          "miss",
          "miss",
          "miss",
          "miss",
          "miss",
          "miss",
          "miss",
          "miss",
          "miss",
          "miss",
          "miss",
          "miss",
          "miss",
          "miss",
          "miss",
          "miss",
          "miss",
          "miss",
          "miss",
          "miss",
          "miss",
          "miss",
          "miss",
          "miss",
          "miss",
          "miss",
          "miss",
          "miss",
          "miss",
          "miss",
          "miss",
          "miss",
          "miss",
          "miss",
          "miss",
          "miss",
          "miss",
          "miss",
          "miss",
          "miss",
          "miss"
         ],
         "x0": " ",
         "xaxis": "x",
         "y": {
          "bdata": "u9qK/WX3IkA8C3va4R8lQCHMtP0rix5Akwm/1M97HUBEgJpatnYdQH22nEtxFR5AoGKcvwkFH0CReeQPBn4dQHTlszwPvilA70bmkT84HUAjI2dhTzsfQE1Ubw1slR5Asqw0KQVtIEAMou4DkNogQExsPq4NVSFA8ncoCvQ5KkDlvWplwu8dQFMdcjPc0CFAxOv6BbuhHkB/6IL6lqknQDPcgM8PwyRARV9BmrEIJEBiEFg5tIgjQF/5LM+DayRAlm4Sg8DKIkDpywuwj64kQDLcgM8PkyJAsilXeJdbJECjQJ/Ik4QgQJU5XRYTqyJAcl5jl6jeIUD7sx8pInMiQLkA++jUpSJANlmjHqIxIkDPQGX8++wiQO4bX3tmaSFAHKfoSC5fIkAxPWGJB0QiQOMBZVOu8CJAxEKtad5RJEDjWBe30ZAjQNSoh2h0JyFA9gFIbeLkI0DxWkI+6PkjQNrXgXNGpCNAfyJPkq4JI0D73QIJim8nQA4LtaZ5lyZAG3xhMlUQJUCygAncuosmQC7dJAaBZStAr2necYr+J0AtAMYzaCglQPwioS3nEipAnT3QCgxZJkAq/FI/b/okQLHTSEvlfSVAKn6MuWspJkCGzmvsEsUkQN0DrcCQVSVACA39E1zMJUCjvmVOl9UlQMq+K4L/bSVAYbAbti2KKECA4seYu7YrQIWsbvWcPDJA29JqSNyzKEDXi6GcaOcuQDsjSnuD7y1A2BwgmKOHLEBpImx4eqUqQBd+qZ83FS1AkjoBTYTtJkCz/s9hvgwoQOgwX16AbShA6XO1FfvrJ0Ak5IOezcooQBakGYumQyhAxOpWz0nfLkCTmj3QCjw0QIps5/upKTFA4hQdyeVnMEBU+3Q8ZsAvQB09fm/T7zBA2/l+arzsNEBfonprYKMzQAQRcAhV+ihAOr1SliHeKkCtSSno9tIuQB3TE5Z4CDJA0dSytb44K0ATx7q4jYYsQBo4Z0Rp/yhAQWlv8IXZKkDPkgA1tewvQFbxRuaRvytAd8cpOpLbLECye/KwULspQEXmkT8YyCdASS7/If3WJ0A=",
          "dtype": "f8"
         },
         "y0": " ",
         "yaxis": "y"
        },
        {
         "alignmentgroup": "True",
         "hovertemplate": "preset=v2 : std<br>function=put<br>hit_mode=%{x}<br>real_time=%{y}<extra></extra>",
         "legendgroup": "v2 : std",
         "marker": {
          "color": "#ab63fa"
         },
         "name": "v2 : std",
         "notched": false,
         "offsetgroup": "v2 : std",
         "orientation": "v",
         "showlegend": false,
         "type": "box",
         "x": [
          "hit",
          "hit",
          "hit",
          "hit",
          "hit",
          "hit",
          "hit",
          "hit",
          "hit",
          "hit",
          "hit",
          "hit",
          "hit",
          "hit",
          "hit",
          "hit",
          "hit",
          "hit",
          "hit",
          "hit",
          "hit",
          "hit",
          "hit",
          "hit",
          "hit",
          "hit",
          "hit",
          "hit",
          "hit",
          "hit",
          "hit",
          "hit",
          "hit",
          "hit",
          "hit",
          "hit",
          "hit",
          "hit",
          "hit",
          "hit",
          "hit",
          "hit",
          "hit",
          "hit",
          "hit",
          "hit",
          "hit",
          "hit",
          "hit",
          "hit",
          "miss",
          "miss",
          "miss",
          "miss",
          "miss",
          "miss",
          "miss",
          "miss",
          "miss",
          "miss",
          "miss",
          "miss",
          "miss",
          "miss",
          "miss",
          "miss",
          "miss",
          "miss",
          "miss",
          "miss",
          "miss",
          "miss",
          "miss",
          "miss",
          "miss",
          "miss",
          "miss",
          "miss",
          "miss",
          "miss",
          "miss",
          "miss",
          "miss",
          "miss",
          "miss",
          "miss",
          "miss",
          "miss",
          "miss",
          "miss",
          "miss",
          "miss",
          "miss",
          "miss",
          "miss",
          "miss",
          "miss",
          "miss",
          "miss",
          "miss"
         ],
         "x0": " ",
         "xaxis": "x2",
         "y": {
          "bdata": "rM/VVuy/JEB40VeQZgwfQDGBW3fzpCVAVluxv+w+JUBmlgSoqVUtQIYIOIQqtSZATNdMvtk2JUDmHAOy1wstQFSalIJujylAXMAEbt0NJEDDKt7IPKImQAWLw5lffSRA/Bhz1xKCJkBqK/aX3WMhQOgK73IRbyVAI3UCmgjrIEABjGfQ0E8jQHMuxVVljyJA/XOYLy/wIUABxjNo6E8iQK5Qa5p3/CJAcaJdhZRvIkCIS447pTMjQATKplzhzSJAOCkF3V7SJEBR/Bhz1xIsQH+utmJ/qSBAV0j5SbUfJED6IqEt5xInQNP2r6w0ySRAOdbFbTRgIUC7x9KHLoglQFsNiXssHShAn+s00lK5JUDWsrW+SPgjQJoSSfQySiVADM11GmkpJEAYfQVpxrIpQP8SuHU3rx9ArKOqCaKuIEBarKjBNIwfQE1/9iNF5B9A7JrJN9scJEBmmxvTExYsQHtcGyrGmR9An6aWrfXlIED6eVORCsMhQDiEKjV7gCBAljRG66iaL0B04UBIFvAiQKF1VDVByEZAM8nIWdiFUEDhvg6cMwZEQKUnLPGAEj9AYHE486sVQUAh5SfVPrFAQGKh1jTvKEBAWkxsPq5ZQEBRP28qUok/QL98eQH22T5AB+bo8Xu7QEDGFoIclIRAQAQ5KGGmfUBAqVs9J71XP0BbgSGrW41AQKOqCaLuL0FAirDh6ZX2QEDhbHNjelZDQNeGinH+pkNA9oQlHlAKRUAMWd3qOXFDQAZCsoAJhENAo/1IERm6RkCBo+TVOcpGQGagMv59SkdAuDf4wmTGREAkRWRYxctEQO/O2m0XXlBAUXk7wmlZRkBJT1jiAb1FQMHFihpM/0NAR7pm8s2eQkBq2VpfJJhCQGwJ+aBnL0VA3FAxzt/8QkCo7V9ZaQ5DQAHxun7BEkNARJ4kXTOVRUBxFva0wzdGQH85evze9kZAWmQ730/FQkBhw9MrZSVIQMk88gcD80RARiBe1y+MQkB2/YLdsAFDQK5yaJHtYEVAU+Olm8SoRkC6jQbwFnxGQMXTK2UZAklA1AX1LXPuRkA=",
          "dtype": "f8"
         },
         "y0": " ",
         "yaxis": "y2"
        }
       ],
       "layout": {
        "annotations": [
         {
          "font": {},
          "showarrow": false,
          "text": "function=get",
          "x": 0.245,
          "xanchor": "center",
          "xref": "paper",
          "y": 1,
          "yanchor": "bottom",
          "yref": "paper"
         },
         {
          "font": {},
          "showarrow": false,
          "text": "function=put",
          "x": 0.755,
          "xanchor": "center",
          "xref": "paper",
          "y": 1,
          "yanchor": "bottom",
          "yref": "paper"
         }
        ],
        "boxmode": "group",
        "legend": {
         "title": {
          "text": "preset"
         },
         "tracegroupgap": 0
        },
        "template": {
         "data": {
          "bar": [
           {
            "error_x": {
             "color": "#2a3f5f"
            },
            "error_y": {
             "color": "#2a3f5f"
            },
            "marker": {
             "line": {
              "color": "#E5ECF6",
              "width": 0.5
             },
             "pattern": {
              "fillmode": "overlay",
              "size": 10,
              "solidity": 0.2
             }
            },
            "type": "bar"
           }
          ],
          "barpolar": [
           {
            "marker": {
             "line": {
              "color": "#E5ECF6",
              "width": 0.5
             },
             "pattern": {
              "fillmode": "overlay",
              "size": 10,
              "solidity": 0.2
             }
            },
            "type": "barpolar"
           }
          ],
          "carpet": [
           {
            "aaxis": {
             "endlinecolor": "#2a3f5f",
             "gridcolor": "white",
             "linecolor": "white",
             "minorgridcolor": "white",
             "startlinecolor": "#2a3f5f"
            },
            "baxis": {
             "endlinecolor": "#2a3f5f",
             "gridcolor": "white",
             "linecolor": "white",
             "minorgridcolor": "white",
             "startlinecolor": "#2a3f5f"
            },
            "type": "carpet"
           }
          ],
          "choropleth": [
           {
            "colorbar": {
             "outlinewidth": 0,
             "ticks": ""
            },
            "type": "choropleth"
           }
          ],
          "contour": [
           {
            "colorbar": {
             "outlinewidth": 0,
             "ticks": ""
            },
            "colorscale": [
             [
              0,
              "#0d0887"
             ],
             [
              0.1111111111111111,
              "#46039f"
             ],
             [
              0.2222222222222222,
              "#7201a8"
             ],
             [
              0.3333333333333333,
              "#9c179e"
             ],
             [
              0.4444444444444444,
              "#bd3786"
             ],
             [
              0.5555555555555556,
              "#d8576b"
             ],
             [
              0.6666666666666666,
              "#ed7953"
             ],
             [
              0.7777777777777778,
              "#fb9f3a"
             ],
             [
              0.8888888888888888,
              "#fdca26"
             ],
             [
              1,
              "#f0f921"
             ]
            ],
            "type": "contour"
           }
          ],
          "contourcarpet": [
           {
            "colorbar": {
             "outlinewidth": 0,
             "ticks": ""
            },
            "type": "contourcarpet"
           }
          ],
          "heatmap": [
           {
            "colorbar": {
             "outlinewidth": 0,
             "ticks": ""
            },
            "colorscale": [
             [
              0,
              "#0d0887"
             ],
             [
              0.1111111111111111,
              "#46039f"
             ],
             [
              0.2222222222222222,
              "#7201a8"
             ],
             [
              0.3333333333333333,
              "#9c179e"
             ],
             [
              0.4444444444444444,
              "#bd3786"
             ],
             [
              0.5555555555555556,
              "#d8576b"
             ],
             [
              0.6666666666666666,
              "#ed7953"
             ],
             [
              0.7777777777777778,
              "#fb9f3a"
             ],
             [
              0.8888888888888888,
              "#fdca26"
             ],
             [
              1,
              "#f0f921"
             ]
            ],
            "type": "heatmap"
           }
          ],
          "histogram": [
           {
            "marker": {
             "pattern": {
              "fillmode": "overlay",
              "size": 10,
              "solidity": 0.2
             }
            },
            "type": "histogram"
           }
          ],
          "histogram2d": [
           {
            "colorbar": {
             "outlinewidth": 0,
             "ticks": ""
            },
            "colorscale": [
             [
              0,
              "#0d0887"
             ],
             [
              0.1111111111111111,
              "#46039f"
             ],
             [
              0.2222222222222222,
              "#7201a8"
             ],
             [
              0.3333333333333333,
              "#9c179e"
             ],
             [
              0.4444444444444444,
              "#bd3786"
             ],
             [
              0.5555555555555556,
              "#d8576b"
             ],
             [
              0.6666666666666666,
              "#ed7953"
             ],
             [
              0.7777777777777778,
              "#fb9f3a"
             ],
             [
              0.8888888888888888,
              "#fdca26"
             ],
             [
              1,
              "#f0f921"
             ]
            ],
            "type": "histogram2d"
           }
          ],
          "histogram2dcontour": [
           {
            "colorbar": {
             "outlinewidth": 0,
             "ticks": ""
            },
            "colorscale": [
             [
              0,
              "#0d0887"
             ],
             [
              0.1111111111111111,
              "#46039f"
             ],
             [
              0.2222222222222222,
              "#7201a8"
             ],
             [
              0.3333333333333333,
              "#9c179e"
             ],
             [
              0.4444444444444444,
              "#bd3786"
             ],
             [
              0.5555555555555556,
              "#d8576b"
             ],
             [
              0.6666666666666666,
              "#ed7953"
             ],
             [
              0.7777777777777778,
              "#fb9f3a"
             ],
             [
              0.8888888888888888,
              "#fdca26"
             ],
             [
              1,
              "#f0f921"
             ]
            ],
            "type": "histogram2dcontour"
           }
          ],
          "mesh3d": [
           {
            "colorbar": {
             "outlinewidth": 0,
             "ticks": ""
            },
            "type": "mesh3d"
           }
          ],
          "parcoords": [
           {
            "line": {
             "colorbar": {
              "outlinewidth": 0,
              "ticks": ""
             }
            },
            "type": "parcoords"
           }
          ],
          "pie": [
           {
            "automargin": true,
            "type": "pie"
           }
          ],
          "scatter": [
           {
            "fillpattern": {
             "fillmode": "overlay",
             "size": 10,
             "solidity": 0.2
            },
            "type": "scatter"
           }
          ],
          "scatter3d": [
           {
            "line": {
             "colorbar": {
              "outlinewidth": 0,
              "ticks": ""
             }
            },
            "marker": {
             "colorbar": {
              "outlinewidth": 0,
              "ticks": ""
             }
            },
            "type": "scatter3d"
           }
          ],
          "scattercarpet": [
           {
            "marker": {
             "colorbar": {
              "outlinewidth": 0,
              "ticks": ""
             }
            },
            "type": "scattercarpet"
           }
          ],
          "scattergeo": [
           {
            "marker": {
             "colorbar": {
              "outlinewidth": 0,
              "ticks": ""
             }
            },
            "type": "scattergeo"
           }
          ],
          "scattergl": [
           {
            "marker": {
             "colorbar": {
              "outlinewidth": 0,
              "ticks": ""
             }
            },
            "type": "scattergl"
           }
          ],
          "scattermap": [
           {
            "marker": {
             "colorbar": {
              "outlinewidth": 0,
              "ticks": ""
             }
            },
            "type": "scattermap"
           }
          ],
          "scattermapbox": [
           {
            "marker": {
             "colorbar": {
              "outlinewidth": 0,
              "ticks": ""
             }
            },
            "type": "scattermapbox"
           }
          ],
          "scatterpolar": [
           {
            "marker": {
             "colorbar": {
              "outlinewidth": 0,
              "ticks": ""
             }
            },
            "type": "scatterpolar"
           }
          ],
          "scatterpolargl": [
           {
            "marker": {
             "colorbar": {
              "outlinewidth": 0,
              "ticks": ""
             }
            },
            "type": "scatterpolargl"
           }
          ],
          "scatterternary": [
           {
            "marker": {
             "colorbar": {
              "outlinewidth": 0,
              "ticks": ""
             }
            },
            "type": "scatterternary"
           }
          ],
          "surface": [
           {
            "colorbar": {
             "outlinewidth": 0,
             "ticks": ""
            },
            "colorscale": [
             [
              0,
              "#0d0887"
             ],
             [
              0.1111111111111111,
              "#46039f"
             ],
             [
              0.2222222222222222,
              "#7201a8"
             ],
             [
              0.3333333333333333,
              "#9c179e"
             ],
             [
              0.4444444444444444,
              "#bd3786"
             ],
             [
              0.5555555555555556,
              "#d8576b"
             ],
             [
              0.6666666666666666,
              "#ed7953"
             ],
             [
              0.7777777777777778,
              "#fb9f3a"
             ],
             [
              0.8888888888888888,
              "#fdca26"
             ],
             [
              1,
              "#f0f921"
             ]
            ],
            "type": "surface"
           }
          ],
          "table": [
           {
            "cells": {
             "fill": {
              "color": "#EBF0F8"
             },
             "line": {
              "color": "white"
             }
            },
            "header": {
             "fill": {
              "color": "#C8D4E3"
             },
             "line": {
              "color": "white"
             }
            },
            "type": "table"
           }
          ]
         },
         "layout": {
          "annotationdefaults": {
           "arrowcolor": "#2a3f5f",
           "arrowhead": 0,
           "arrowwidth": 1
          },
          "autotypenumbers": "strict",
          "coloraxis": {
           "colorbar": {
            "outlinewidth": 0,
            "ticks": ""
           }
          },
          "colorscale": {
           "diverging": [
            [
             0,
             "#8e0152"
            ],
            [
             0.1,
             "#c51b7d"
            ],
            [
             0.2,
             "#de77ae"
            ],
            [
             0.3,
             "#f1b6da"
            ],
            [
             0.4,
             "#fde0ef"
            ],
            [
             0.5,
             "#f7f7f7"
            ],
            [
             0.6,
             "#e6f5d0"
            ],
            [
             0.7,
             "#b8e186"
            ],
            [
             0.8,
             "#7fbc41"
            ],
            [
             0.9,
             "#4d9221"
            ],
            [
             1,
             "#276419"
            ]
           ],
           "sequential": [
            [
             0,
             "#0d0887"
            ],
            [
             0.1111111111111111,
             "#46039f"
            ],
            [
             0.2222222222222222,
             "#7201a8"
            ],
            [
             0.3333333333333333,
             "#9c179e"
            ],
            [
             0.4444444444444444,
             "#bd3786"
            ],
            [
             0.5555555555555556,
             "#d8576b"
            ],
            [
             0.6666666666666666,
             "#ed7953"
            ],
            [
             0.7777777777777778,
             "#fb9f3a"
            ],
            [
             0.8888888888888888,
             "#fdca26"
            ],
            [
             1,
             "#f0f921"
            ]
           ],
           "sequentialminus": [
            [
             0,
             "#0d0887"
            ],
            [
             0.1111111111111111,
             "#46039f"
            ],
            [
             0.2222222222222222,
             "#7201a8"
            ],
            [
             0.3333333333333333,
             "#9c179e"
            ],
            [
             0.4444444444444444,
             "#bd3786"
            ],
            [
             0.5555555555555556,
             "#d8576b"
            ],
            [
             0.6666666666666666,
             "#ed7953"
            ],
            [
             0.7777777777777778,
             "#fb9f3a"
            ],
            [
             0.8888888888888888,
             "#fdca26"
            ],
            [
             1,
             "#f0f921"
            ]
           ]
          },
          "colorway": [
           "#636efa",
           "#EF553B",
           "#00cc96",
           "#ab63fa",
           "#FFA15A",
           "#19d3f3",
           "#FF6692",
           "#B6E880",
           "#FF97FF",
           "#FECB52"
          ],
          "font": {
           "color": "#2a3f5f"
          },
          "geo": {
           "bgcolor": "white",
           "lakecolor": "white",
           "landcolor": "#E5ECF6",
           "showlakes": true,
           "showland": true,
           "subunitcolor": "white"
          },
          "hoverlabel": {
           "align": "left"
          },
          "hovermode": "closest",
          "mapbox": {
           "style": "light"
          },
          "paper_bgcolor": "white",
          "plot_bgcolor": "#E5ECF6",
          "polar": {
           "angularaxis": {
            "gridcolor": "white",
            "linecolor": "white",
            "ticks": ""
           },
           "bgcolor": "#E5ECF6",
           "radialaxis": {
            "gridcolor": "white",
            "linecolor": "white",
            "ticks": ""
           }
          },
          "scene": {
           "xaxis": {
            "backgroundcolor": "#E5ECF6",
            "gridcolor": "white",
            "gridwidth": 2,
            "linecolor": "white",
            "showbackground": true,
            "ticks": "",
            "zerolinecolor": "white"
           },
           "yaxis": {
            "backgroundcolor": "#E5ECF6",
            "gridcolor": "white",
            "gridwidth": 2,
            "linecolor": "white",
            "showbackground": true,
            "ticks": "",
            "zerolinecolor": "white"
           },
           "zaxis": {
            "backgroundcolor": "#E5ECF6",
            "gridcolor": "white",
            "gridwidth": 2,
            "linecolor": "white",
            "showbackground": true,
            "ticks": "",
            "zerolinecolor": "white"
           }
          },
          "shapedefaults": {
           "line": {
            "color": "#2a3f5f"
           }
          },
          "ternary": {
           "aaxis": {
            "gridcolor": "white",
            "linecolor": "white",
            "ticks": ""
           },
           "baxis": {
            "gridcolor": "white",
            "linecolor": "white",
            "ticks": ""
           },
           "bgcolor": "#E5ECF6",
           "caxis": {
            "gridcolor": "white",
            "linecolor": "white",
            "ticks": ""
           }
          },
          "title": {
           "x": 0.05
          },
          "xaxis": {
           "automargin": true,
           "gridcolor": "white",
           "linecolor": "white",
           "ticks": "",
           "title": {
            "standoff": 15
           },
           "zerolinecolor": "white",
           "zerolinewidth": 2
          },
          "yaxis": {
           "automargin": true,
           "gridcolor": "white",
           "linecolor": "white",
           "ticks": "",
           "title": {
            "standoff": 15
           },
           "zerolinecolor": "white",
           "zerolinewidth": 2
          }
         }
        },
        "title": {
         "text": "Average execution time per operation, ns"
        },
        "xaxis": {
         "anchor": "y",
         "domain": [
          0,
          0.49
         ],
         "title": {
          "text": "hit_mode"
         }
        },
        "xaxis2": {
         "anchor": "y2",
         "domain": [
          0.51,
          1
         ],
         "matches": "x",
         "title": {
          "text": "hit_mode"
         }
        },
        "yaxis": {
         "anchor": "x",
         "domain": [
          0,
          1
         ],
         "showticklabels": true,
         "title": {
          "text": "real_time"
         }
        },
        "yaxis2": {
         "anchor": "x2",
         "domain": [
          0,
          1
         ],
         "showticklabels": true
        }
       }
      }
     },
     "metadata": {},
     "output_type": "display_data"
    }
   ],
   "source": [
    "def parse_run_name(run_name: str | None) -> dict[str, str | None]:\n",
    "    # Example: LRUCacheBench<std, hit>::put/iterations:100/manual_time\n",
    "    if (run_name is not None) and (m := re.match(r\"^LRUCacheBench<([^,]+), ([^,]+), ([^>]+)>::(\\w+)\", run_name)):\n",
    "        version, allocator, hit_mode, function = m.groups()\n",
    "        return {\"version\": version, \"allocator\": allocator, \"hit_mode\": hit_mode, \"function\": function}\n",
    "    return {}\n",
    "\n",
    "\n",
    "data = (\n",
    "    benchmark.select(\n",
    "        pl.col(\"run_name\").alias(\"name\"),\n",
    "        pl.col(\"run_type\"),\n",
    "        pl.col(\"real_time\"),\n",
    "        pl.col(\"time_unit\"),\n",
    "    )\n",
    "    .filter(pl.col(\"name\").str.starts_with(\"LRUCacheBench\"))\n",
    "    .filter(pl.col(\"run_type\") == \"iteration\")\n",
    "    .with_columns(\n",
    "        pl.col(\"name\").map_elements(\n",
    "            parse_run_name,\n",
    "            return_dtype=pl.Struct({\"version\": pl.Utf8, \"allocator\": pl.Utf8, \"hit_mode\": pl.Utf8, \"function\": pl.Utf8}),\n",
    "        )\n",
    "    )\n",
    "    .unnest(\"name\")\n",
    "    .with_columns(\n",
    "        pl.concat_str(\n",
    "            [\n",
    "                pl.col(\"version\"),\n",
    "                pl.lit(\" : \"),\n",
    "                pl.col(\"allocator\"),\n",
    "            ]\n",
    "        ).alias(\"preset\")\n",
    "    )\n",
    "    .sort(\"function\", \"hit_mode\", \"version\", \"allocator\")\n",
    ")\n",
    "assert data[\"time_unit\"].unique().to_list() == [\"ns\"]\n",
    "\n",
    "fig = px.box(\n",
    "    data,\n",
    "    x=\"hit_mode\",\n",
    "    y=\"real_time\",\n",
    "    color=\"preset\",\n",
    "    facet_col=\"function\",\n",
    "    title=\"Average execution time per operation, ns\",\n",
    ")\n",
    "fig.update_yaxes(matches=None)\n",
    "fig.for_each_yaxis(lambda yaxis: yaxis.update(showticklabels=True))\n",
    "\n",
    "fig.write_html(\"bench.html\")\n",
    "fig.show()\n"
   ]
  }
 ],
 "metadata": {
  "kernelspec": {
   "display_name": "venv",
   "language": "python",
   "name": "python3"
  },
  "language_info": {
   "codemirror_mode": {
    "name": "ipython",
    "version": 3
   },
   "file_extension": ".py",
   "mimetype": "text/x-python",
   "name": "python",
   "nbconvert_exporter": "python",
   "pygments_lexer": "ipython3",
   "version": "3.13.3"
  }
 },
 "nbformat": 4,
 "nbformat_minor": 2
}
